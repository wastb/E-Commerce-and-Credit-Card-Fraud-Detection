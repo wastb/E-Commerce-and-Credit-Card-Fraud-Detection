{
 "cells": [
  {
   "cell_type": "markdown",
   "metadata": {},
   "source": [
    "# ***Project Objectives***\n",
    "\n",
    "- *Analyzing and preprocessing transaction data.*\n",
    "- *Creating and engineering features that help identify fraud patterns.*\n",
    "- *Building and training machine learning models to detect fraud.*\n",
    "- *Evaluating model performance and making necessary improvements.*\n",
    "- *Deploying the models for real-time fraud detection and setting up monitoring for continuous improvement.*\n"
   ]
  },
  {
   "cell_type": "code",
   "execution_count": null,
   "metadata": {
    "execution": {
     "iopub.execute_input": "2025-02-10T08:23:18.618243Z",
     "iopub.status.busy": "2025-02-10T08:23:18.617911Z",
     "iopub.status.idle": "2025-02-10T08:23:18.622533Z",
     "shell.execute_reply": "2025-02-10T08:23:18.621498Z",
     "shell.execute_reply.started": "2025-02-10T08:23:18.618216Z"
    },
    "trusted": true
   },
   "outputs": [],
   "source": [
    "## Import necessary libraries\n",
    "\n",
    "import pandas as pd\n",
    "import matplotlib.pyplot as plt\n",
    "import seaborn as sns\n",
    "\n",
    "from sklearn.preprocessing import LabelEncoder\n",
    "from sklearn.preprocessing import StandardScaler,MinMaxScaler\n",
    "from sklearn.metrics import classification_report,accuracy_score,confusion_matrix\n",
    "from sklearn.linear_model import LogisticRegression\n",
    "from sklearn.tree import DecisionTreeClassifier\n",
    "from sklearn.ensemble import RandomForestClassifier\n",
    "from xgboost import XGBClassifier\n",
    "from sklearn.model_selection import train_test_split\n",
    "\n",
    "from imblearn.over_sampling import SMOTE\n",
    "import mlflow"
   ]
  },
  {
   "cell_type": "code",
   "execution_count": 73,
   "metadata": {
    "execution": {
     "iopub.execute_input": "2025-02-10T08:06:51.388105Z",
     "iopub.status.busy": "2025-02-10T08:06:51.387633Z",
     "iopub.status.idle": "2025-02-10T08:06:55.611095Z",
     "shell.execute_reply": "2025-02-10T08:06:55.610150Z",
     "shell.execute_reply.started": "2025-02-10T08:06:51.388078Z"
    },
    "trusted": true
   },
   "outputs": [],
   "source": [
    "## Load the dataset\n",
    "df_fraud = pd.read_csv('../data/cleaned_fraud_data.csv')\n",
    "df_credit_card = pd.read_csv('../data/creditcard.csv')"
   ]
  },
  {
   "cell_type": "code",
   "execution_count": 74,
   "metadata": {
    "execution": {
     "iopub.execute_input": "2025-02-10T08:06:55.612506Z",
     "iopub.status.busy": "2025-02-10T08:06:55.612150Z",
     "iopub.status.idle": "2025-02-10T08:06:55.651409Z",
     "shell.execute_reply": "2025-02-10T08:06:55.650526Z",
     "shell.execute_reply.started": "2025-02-10T08:06:55.612464Z"
    },
    "trusted": true
   },
   "outputs": [
    {
     "data": {
      "text/html": [
       "<div>\n",
       "<style scoped>\n",
       "    .dataframe tbody tr th:only-of-type {\n",
       "        vertical-align: middle;\n",
       "    }\n",
       "\n",
       "    .dataframe tbody tr th {\n",
       "        vertical-align: top;\n",
       "    }\n",
       "\n",
       "    .dataframe thead th {\n",
       "        text-align: right;\n",
       "    }\n",
       "</style>\n",
       "<table border=\"1\" class=\"dataframe\">\n",
       "  <thead>\n",
       "    <tr style=\"text-align: right;\">\n",
       "      <th></th>\n",
       "      <th>Time</th>\n",
       "      <th>V1</th>\n",
       "      <th>V2</th>\n",
       "      <th>V3</th>\n",
       "      <th>V4</th>\n",
       "      <th>V5</th>\n",
       "      <th>V6</th>\n",
       "      <th>V7</th>\n",
       "      <th>V8</th>\n",
       "      <th>V9</th>\n",
       "      <th>...</th>\n",
       "      <th>V21</th>\n",
       "      <th>V22</th>\n",
       "      <th>V23</th>\n",
       "      <th>V24</th>\n",
       "      <th>V25</th>\n",
       "      <th>V26</th>\n",
       "      <th>V27</th>\n",
       "      <th>V28</th>\n",
       "      <th>Amount</th>\n",
       "      <th>Class</th>\n",
       "    </tr>\n",
       "  </thead>\n",
       "  <tbody>\n",
       "    <tr>\n",
       "      <th>0</th>\n",
       "      <td>0.0</td>\n",
       "      <td>-1.359807</td>\n",
       "      <td>-0.072781</td>\n",
       "      <td>2.536347</td>\n",
       "      <td>1.378155</td>\n",
       "      <td>-0.338321</td>\n",
       "      <td>0.462388</td>\n",
       "      <td>0.239599</td>\n",
       "      <td>0.098698</td>\n",
       "      <td>0.363787</td>\n",
       "      <td>...</td>\n",
       "      <td>-0.018307</td>\n",
       "      <td>0.277838</td>\n",
       "      <td>-0.110474</td>\n",
       "      <td>0.066928</td>\n",
       "      <td>0.128539</td>\n",
       "      <td>-0.189115</td>\n",
       "      <td>0.133558</td>\n",
       "      <td>-0.021053</td>\n",
       "      <td>149.62</td>\n",
       "      <td>0</td>\n",
       "    </tr>\n",
       "    <tr>\n",
       "      <th>1</th>\n",
       "      <td>0.0</td>\n",
       "      <td>1.191857</td>\n",
       "      <td>0.266151</td>\n",
       "      <td>0.166480</td>\n",
       "      <td>0.448154</td>\n",
       "      <td>0.060018</td>\n",
       "      <td>-0.082361</td>\n",
       "      <td>-0.078803</td>\n",
       "      <td>0.085102</td>\n",
       "      <td>-0.255425</td>\n",
       "      <td>...</td>\n",
       "      <td>-0.225775</td>\n",
       "      <td>-0.638672</td>\n",
       "      <td>0.101288</td>\n",
       "      <td>-0.339846</td>\n",
       "      <td>0.167170</td>\n",
       "      <td>0.125895</td>\n",
       "      <td>-0.008983</td>\n",
       "      <td>0.014724</td>\n",
       "      <td>2.69</td>\n",
       "      <td>0</td>\n",
       "    </tr>\n",
       "    <tr>\n",
       "      <th>2</th>\n",
       "      <td>1.0</td>\n",
       "      <td>-1.358354</td>\n",
       "      <td>-1.340163</td>\n",
       "      <td>1.773209</td>\n",
       "      <td>0.379780</td>\n",
       "      <td>-0.503198</td>\n",
       "      <td>1.800499</td>\n",
       "      <td>0.791461</td>\n",
       "      <td>0.247676</td>\n",
       "      <td>-1.514654</td>\n",
       "      <td>...</td>\n",
       "      <td>0.247998</td>\n",
       "      <td>0.771679</td>\n",
       "      <td>0.909412</td>\n",
       "      <td>-0.689281</td>\n",
       "      <td>-0.327642</td>\n",
       "      <td>-0.139097</td>\n",
       "      <td>-0.055353</td>\n",
       "      <td>-0.059752</td>\n",
       "      <td>378.66</td>\n",
       "      <td>0</td>\n",
       "    </tr>\n",
       "    <tr>\n",
       "      <th>3</th>\n",
       "      <td>1.0</td>\n",
       "      <td>-0.966272</td>\n",
       "      <td>-0.185226</td>\n",
       "      <td>1.792993</td>\n",
       "      <td>-0.863291</td>\n",
       "      <td>-0.010309</td>\n",
       "      <td>1.247203</td>\n",
       "      <td>0.237609</td>\n",
       "      <td>0.377436</td>\n",
       "      <td>-1.387024</td>\n",
       "      <td>...</td>\n",
       "      <td>-0.108300</td>\n",
       "      <td>0.005274</td>\n",
       "      <td>-0.190321</td>\n",
       "      <td>-1.175575</td>\n",
       "      <td>0.647376</td>\n",
       "      <td>-0.221929</td>\n",
       "      <td>0.062723</td>\n",
       "      <td>0.061458</td>\n",
       "      <td>123.50</td>\n",
       "      <td>0</td>\n",
       "    </tr>\n",
       "    <tr>\n",
       "      <th>4</th>\n",
       "      <td>2.0</td>\n",
       "      <td>-1.158233</td>\n",
       "      <td>0.877737</td>\n",
       "      <td>1.548718</td>\n",
       "      <td>0.403034</td>\n",
       "      <td>-0.407193</td>\n",
       "      <td>0.095921</td>\n",
       "      <td>0.592941</td>\n",
       "      <td>-0.270533</td>\n",
       "      <td>0.817739</td>\n",
       "      <td>...</td>\n",
       "      <td>-0.009431</td>\n",
       "      <td>0.798278</td>\n",
       "      <td>-0.137458</td>\n",
       "      <td>0.141267</td>\n",
       "      <td>-0.206010</td>\n",
       "      <td>0.502292</td>\n",
       "      <td>0.219422</td>\n",
       "      <td>0.215153</td>\n",
       "      <td>69.99</td>\n",
       "      <td>0</td>\n",
       "    </tr>\n",
       "  </tbody>\n",
       "</table>\n",
       "<p>5 rows × 31 columns</p>\n",
       "</div>"
      ],
      "text/plain": [
       "   Time        V1        V2        V3        V4        V5        V6        V7  \\\n",
       "0   0.0 -1.359807 -0.072781  2.536347  1.378155 -0.338321  0.462388  0.239599   \n",
       "1   0.0  1.191857  0.266151  0.166480  0.448154  0.060018 -0.082361 -0.078803   \n",
       "2   1.0 -1.358354 -1.340163  1.773209  0.379780 -0.503198  1.800499  0.791461   \n",
       "3   1.0 -0.966272 -0.185226  1.792993 -0.863291 -0.010309  1.247203  0.237609   \n",
       "4   2.0 -1.158233  0.877737  1.548718  0.403034 -0.407193  0.095921  0.592941   \n",
       "\n",
       "         V8        V9  ...       V21       V22       V23       V24       V25  \\\n",
       "0  0.098698  0.363787  ... -0.018307  0.277838 -0.110474  0.066928  0.128539   \n",
       "1  0.085102 -0.255425  ... -0.225775 -0.638672  0.101288 -0.339846  0.167170   \n",
       "2  0.247676 -1.514654  ...  0.247998  0.771679  0.909412 -0.689281 -0.327642   \n",
       "3  0.377436 -1.387024  ... -0.108300  0.005274 -0.190321 -1.175575  0.647376   \n",
       "4 -0.270533  0.817739  ... -0.009431  0.798278 -0.137458  0.141267 -0.206010   \n",
       "\n",
       "        V26       V27       V28  Amount  Class  \n",
       "0 -0.189115  0.133558 -0.021053  149.62      0  \n",
       "1  0.125895 -0.008983  0.014724    2.69      0  \n",
       "2 -0.139097 -0.055353 -0.059752  378.66      0  \n",
       "3 -0.221929  0.062723  0.061458  123.50      0  \n",
       "4  0.502292  0.219422  0.215153   69.99      0  \n",
       "\n",
       "[5 rows x 31 columns]"
      ]
     },
     "execution_count": 74,
     "metadata": {},
     "output_type": "execute_result"
    }
   ],
   "source": [
    "## View sample credit card data\n",
    "df_credit_card.head()"
   ]
  },
  {
   "cell_type": "code",
   "execution_count": 75,
   "metadata": {
    "execution": {
     "iopub.execute_input": "2025-02-10T08:06:55.654051Z",
     "iopub.status.busy": "2025-02-10T08:06:55.653732Z",
     "iopub.status.idle": "2025-02-10T08:06:55.676715Z",
     "shell.execute_reply": "2025-02-10T08:06:55.675914Z",
     "shell.execute_reply.started": "2025-02-10T08:06:55.654027Z"
    },
    "trusted": true
   },
   "outputs": [
    {
     "data": {
      "text/html": [
       "<div>\n",
       "<style scoped>\n",
       "    .dataframe tbody tr th:only-of-type {\n",
       "        vertical-align: middle;\n",
       "    }\n",
       "\n",
       "    .dataframe tbody tr th {\n",
       "        vertical-align: top;\n",
       "    }\n",
       "\n",
       "    .dataframe thead th {\n",
       "        text-align: right;\n",
       "    }\n",
       "</style>\n",
       "<table border=\"1\" class=\"dataframe\">\n",
       "  <thead>\n",
       "    <tr style=\"text-align: right;\">\n",
       "      <th></th>\n",
       "      <th>user_id</th>\n",
       "      <th>signup_time</th>\n",
       "      <th>purchase_time</th>\n",
       "      <th>purchase_value</th>\n",
       "      <th>device_id</th>\n",
       "      <th>age</th>\n",
       "      <th>ip_address</th>\n",
       "      <th>class</th>\n",
       "      <th>country</th>\n",
       "      <th>hour</th>\n",
       "      <th>...</th>\n",
       "      <th>weekday</th>\n",
       "      <th>frequency</th>\n",
       "      <th>velocity</th>\n",
       "      <th>source_Direct</th>\n",
       "      <th>source_SEO</th>\n",
       "      <th>browser_FireFox</th>\n",
       "      <th>browser_IE</th>\n",
       "      <th>browser_Opera</th>\n",
       "      <th>browser_Safari</th>\n",
       "      <th>sex_M</th>\n",
       "    </tr>\n",
       "  </thead>\n",
       "  <tbody>\n",
       "    <tr>\n",
       "      <th>0</th>\n",
       "      <td>22058</td>\n",
       "      <td>2015-02-24 22:55:49</td>\n",
       "      <td>2015-04-18 02:47:11</td>\n",
       "      <td>0.172414</td>\n",
       "      <td>QVPSPJUOCKZAR</td>\n",
       "      <td>0.362069</td>\n",
       "      <td>0.170603</td>\n",
       "      <td>0</td>\n",
       "      <td>Japan</td>\n",
       "      <td>2</td>\n",
       "      <td>...</td>\n",
       "      <td>5</td>\n",
       "      <td>1</td>\n",
       "      <td>0.172414</td>\n",
       "      <td>False</td>\n",
       "      <td>True</td>\n",
       "      <td>False</td>\n",
       "      <td>False</td>\n",
       "      <td>False</td>\n",
       "      <td>False</td>\n",
       "      <td>True</td>\n",
       "    </tr>\n",
       "    <tr>\n",
       "      <th>1</th>\n",
       "      <td>333320</td>\n",
       "      <td>2015-06-07 20:39:50</td>\n",
       "      <td>2015-06-08 01:38:54</td>\n",
       "      <td>0.048276</td>\n",
       "      <td>EOGFQPIZPYXFZ</td>\n",
       "      <td>0.603448</td>\n",
       "      <td>0.081554</td>\n",
       "      <td>0</td>\n",
       "      <td>United States</td>\n",
       "      <td>1</td>\n",
       "      <td>...</td>\n",
       "      <td>0</td>\n",
       "      <td>1</td>\n",
       "      <td>0.048276</td>\n",
       "      <td>False</td>\n",
       "      <td>False</td>\n",
       "      <td>False</td>\n",
       "      <td>False</td>\n",
       "      <td>False</td>\n",
       "      <td>False</td>\n",
       "      <td>False</td>\n",
       "    </tr>\n",
       "    <tr>\n",
       "      <th>2</th>\n",
       "      <td>1359</td>\n",
       "      <td>2015-01-01 18:52:44</td>\n",
       "      <td>2015-01-01 18:52:45</td>\n",
       "      <td>0.041379</td>\n",
       "      <td>YSSKYOSJHPPLJ</td>\n",
       "      <td>0.603448</td>\n",
       "      <td>0.610371</td>\n",
       "      <td>1</td>\n",
       "      <td>United States</td>\n",
       "      <td>18</td>\n",
       "      <td>...</td>\n",
       "      <td>3</td>\n",
       "      <td>1</td>\n",
       "      <td>0.041379</td>\n",
       "      <td>False</td>\n",
       "      <td>True</td>\n",
       "      <td>False</td>\n",
       "      <td>False</td>\n",
       "      <td>True</td>\n",
       "      <td>False</td>\n",
       "      <td>True</td>\n",
       "    </tr>\n",
       "    <tr>\n",
       "      <th>3</th>\n",
       "      <td>150084</td>\n",
       "      <td>2015-04-28 21:13:25</td>\n",
       "      <td>2015-05-04 13:54:50</td>\n",
       "      <td>0.241379</td>\n",
       "      <td>ATGTXKYKUDUQN</td>\n",
       "      <td>0.396552</td>\n",
       "      <td>0.894219</td>\n",
       "      <td>0</td>\n",
       "      <td>Unknown</td>\n",
       "      <td>13</td>\n",
       "      <td>...</td>\n",
       "      <td>0</td>\n",
       "      <td>1</td>\n",
       "      <td>0.241379</td>\n",
       "      <td>False</td>\n",
       "      <td>True</td>\n",
       "      <td>False</td>\n",
       "      <td>False</td>\n",
       "      <td>False</td>\n",
       "      <td>True</td>\n",
       "      <td>True</td>\n",
       "    </tr>\n",
       "    <tr>\n",
       "      <th>4</th>\n",
       "      <td>221365</td>\n",
       "      <td>2015-07-21 07:09:52</td>\n",
       "      <td>2015-09-09 18:40:53</td>\n",
       "      <td>0.206897</td>\n",
       "      <td>NAUITBZFJKHWW</td>\n",
       "      <td>0.465517</td>\n",
       "      <td>0.096752</td>\n",
       "      <td>0</td>\n",
       "      <td>United States</td>\n",
       "      <td>18</td>\n",
       "      <td>...</td>\n",
       "      <td>2</td>\n",
       "      <td>1</td>\n",
       "      <td>0.206897</td>\n",
       "      <td>False</td>\n",
       "      <td>False</td>\n",
       "      <td>False</td>\n",
       "      <td>False</td>\n",
       "      <td>False</td>\n",
       "      <td>True</td>\n",
       "      <td>True</td>\n",
       "    </tr>\n",
       "  </tbody>\n",
       "</table>\n",
       "<p>5 rows × 22 columns</p>\n",
       "</div>"
      ],
      "text/plain": [
       "   user_id          signup_time        purchase_time  purchase_value  \\\n",
       "0    22058  2015-02-24 22:55:49  2015-04-18 02:47:11        0.172414   \n",
       "1   333320  2015-06-07 20:39:50  2015-06-08 01:38:54        0.048276   \n",
       "2     1359  2015-01-01 18:52:44  2015-01-01 18:52:45        0.041379   \n",
       "3   150084  2015-04-28 21:13:25  2015-05-04 13:54:50        0.241379   \n",
       "4   221365  2015-07-21 07:09:52  2015-09-09 18:40:53        0.206897   \n",
       "\n",
       "       device_id       age  ip_address  class        country  hour  ...  \\\n",
       "0  QVPSPJUOCKZAR  0.362069    0.170603      0          Japan     2  ...   \n",
       "1  EOGFQPIZPYXFZ  0.603448    0.081554      0  United States     1  ...   \n",
       "2  YSSKYOSJHPPLJ  0.603448    0.610371      1  United States    18  ...   \n",
       "3  ATGTXKYKUDUQN  0.396552    0.894219      0        Unknown    13  ...   \n",
       "4  NAUITBZFJKHWW  0.465517    0.096752      0  United States    18  ...   \n",
       "\n",
       "   weekday  frequency  velocity  source_Direct  source_SEO  browser_FireFox  \\\n",
       "0        5          1  0.172414          False        True            False   \n",
       "1        0          1  0.048276          False       False            False   \n",
       "2        3          1  0.041379          False        True            False   \n",
       "3        0          1  0.241379          False        True            False   \n",
       "4        2          1  0.206897          False       False            False   \n",
       "\n",
       "   browser_IE  browser_Opera  browser_Safari  sex_M  \n",
       "0       False          False           False   True  \n",
       "1       False          False           False  False  \n",
       "2       False           True           False   True  \n",
       "3       False          False            True   True  \n",
       "4       False          False            True   True  \n",
       "\n",
       "[5 rows x 22 columns]"
      ]
     },
     "execution_count": 75,
     "metadata": {},
     "output_type": "execute_result"
    }
   ],
   "source": [
    "## View sample data\n",
    "df_fraud.head()"
   ]
  },
  {
   "cell_type": "markdown",
   "metadata": {},
   "source": [
    "## ***Data Transformation***"
   ]
  },
  {
   "cell_type": "code",
   "execution_count": 76,
   "metadata": {
    "execution": {
     "iopub.execute_input": "2025-02-10T08:06:55.678748Z",
     "iopub.status.busy": "2025-02-10T08:06:55.678521Z",
     "iopub.status.idle": "2025-02-10T08:06:55.706571Z",
     "shell.execute_reply": "2025-02-10T08:06:55.705703Z",
     "shell.execute_reply.started": "2025-02-10T08:06:55.678728Z"
    },
    "trusted": true
   },
   "outputs": [],
   "source": [
    "## Normalize the 'Time' and 'Amount' features in the credit card data\n",
    "cols = ['Time','Amount']\n",
    "scaler = MinMaxScaler()\n",
    "df_credit_card[cols]=scaler.fit_transform(df_credit_card[cols])"
   ]
  },
  {
   "cell_type": "code",
   "execution_count": 77,
   "metadata": {
    "execution": {
     "iopub.execute_input": "2025-02-10T08:06:55.707658Z",
     "iopub.status.busy": "2025-02-10T08:06:55.707406Z",
     "iopub.status.idle": "2025-02-10T08:06:55.746472Z",
     "shell.execute_reply": "2025-02-10T08:06:55.745457Z",
     "shell.execute_reply.started": "2025-02-10T08:06:55.707635Z"
    },
    "trusted": true
   },
   "outputs": [],
   "source": [
    "## Label encode the 'country' feature in the fraud datasets\n",
    "label_encoder = LabelEncoder()\n",
    "df_fraud['country'] = label_encoder.fit_transform(df_fraud['country'])"
   ]
  },
  {
   "cell_type": "code",
   "execution_count": 78,
   "metadata": {
    "execution": {
     "iopub.execute_input": "2025-02-10T08:06:55.747767Z",
     "iopub.status.busy": "2025-02-10T08:06:55.747533Z",
     "iopub.status.idle": "2025-02-10T08:06:55.852069Z",
     "shell.execute_reply": "2025-02-10T08:06:55.851029Z",
     "shell.execute_reply.started": "2025-02-10T08:06:55.747746Z"
    },
    "trusted": true
   },
   "outputs": [],
   "source": [
    "## Find the difference between signup and purchase time for fraud datasets\n",
    "df_fraud['signup_time'] = pd.to_datetime(df_fraud['signup_time'])\n",
    "df_fraud['purchase_time'] = pd.to_datetime(df_fraud['purchase_time'])\n",
    "df_fraud['time_difference'] = (df_fraud['purchase_time'] - df_fraud['signup_time']).dt.total_seconds()"
   ]
  },
  {
   "cell_type": "code",
   "execution_count": 79,
   "metadata": {
    "execution": {
     "iopub.execute_input": "2025-02-10T08:06:55.853392Z",
     "iopub.status.busy": "2025-02-10T08:06:55.853131Z",
     "iopub.status.idle": "2025-02-10T08:06:55.864689Z",
     "shell.execute_reply": "2025-02-10T08:06:55.863832Z",
     "shell.execute_reply.started": "2025-02-10T08:06:55.853370Z"
    },
    "trusted": true
   },
   "outputs": [],
   "source": [
    "## Scale the the time_difference column\n",
    "df_fraud['time_difference'] = scaler.fit_transform(df_fraud[['time_difference']])"
   ]
  },
  {
   "cell_type": "code",
   "execution_count": 80,
   "metadata": {
    "execution": {
     "iopub.execute_input": "2025-02-10T08:06:55.865780Z",
     "iopub.status.busy": "2025-02-10T08:06:55.865528Z",
     "iopub.status.idle": "2025-02-10T08:06:55.877196Z",
     "shell.execute_reply": "2025-02-10T08:06:55.876217Z",
     "shell.execute_reply.started": "2025-02-10T08:06:55.865747Z"
    },
    "trusted": true
   },
   "outputs": [],
   "source": [
    "## let's drop unwanted columns \n",
    "df_fraud.drop(columns=['user_id','signup_time','purchase_time','device_id','ip_address'], inplace=True)"
   ]
  },
  {
   "cell_type": "code",
   "execution_count": 81,
   "metadata": {
    "execution": {
     "iopub.execute_input": "2025-02-10T08:06:55.878293Z",
     "iopub.status.busy": "2025-02-10T08:06:55.878061Z",
     "iopub.status.idle": "2025-02-10T08:06:55.900123Z",
     "shell.execute_reply": "2025-02-10T08:06:55.899362Z",
     "shell.execute_reply.started": "2025-02-10T08:06:55.878271Z"
    },
    "trusted": true
   },
   "outputs": [
    {
     "data": {
      "text/html": [
       "<div>\n",
       "<style scoped>\n",
       "    .dataframe tbody tr th:only-of-type {\n",
       "        vertical-align: middle;\n",
       "    }\n",
       "\n",
       "    .dataframe tbody tr th {\n",
       "        vertical-align: top;\n",
       "    }\n",
       "\n",
       "    .dataframe thead th {\n",
       "        text-align: right;\n",
       "    }\n",
       "</style>\n",
       "<table border=\"1\" class=\"dataframe\">\n",
       "  <thead>\n",
       "    <tr style=\"text-align: right;\">\n",
       "      <th></th>\n",
       "      <th>Time</th>\n",
       "      <th>V1</th>\n",
       "      <th>V2</th>\n",
       "      <th>V3</th>\n",
       "      <th>V4</th>\n",
       "      <th>V5</th>\n",
       "      <th>V6</th>\n",
       "      <th>V7</th>\n",
       "      <th>V8</th>\n",
       "      <th>V9</th>\n",
       "      <th>...</th>\n",
       "      <th>V21</th>\n",
       "      <th>V22</th>\n",
       "      <th>V23</th>\n",
       "      <th>V24</th>\n",
       "      <th>V25</th>\n",
       "      <th>V26</th>\n",
       "      <th>V27</th>\n",
       "      <th>V28</th>\n",
       "      <th>Amount</th>\n",
       "      <th>Class</th>\n",
       "    </tr>\n",
       "  </thead>\n",
       "  <tbody>\n",
       "    <tr>\n",
       "      <th>0</th>\n",
       "      <td>0.000000</td>\n",
       "      <td>-1.359807</td>\n",
       "      <td>-0.072781</td>\n",
       "      <td>2.536347</td>\n",
       "      <td>1.378155</td>\n",
       "      <td>-0.338321</td>\n",
       "      <td>0.462388</td>\n",
       "      <td>0.239599</td>\n",
       "      <td>0.098698</td>\n",
       "      <td>0.363787</td>\n",
       "      <td>...</td>\n",
       "      <td>-0.018307</td>\n",
       "      <td>0.277838</td>\n",
       "      <td>-0.110474</td>\n",
       "      <td>0.066928</td>\n",
       "      <td>0.128539</td>\n",
       "      <td>-0.189115</td>\n",
       "      <td>0.133558</td>\n",
       "      <td>-0.021053</td>\n",
       "      <td>0.005824</td>\n",
       "      <td>0</td>\n",
       "    </tr>\n",
       "    <tr>\n",
       "      <th>1</th>\n",
       "      <td>0.000000</td>\n",
       "      <td>1.191857</td>\n",
       "      <td>0.266151</td>\n",
       "      <td>0.166480</td>\n",
       "      <td>0.448154</td>\n",
       "      <td>0.060018</td>\n",
       "      <td>-0.082361</td>\n",
       "      <td>-0.078803</td>\n",
       "      <td>0.085102</td>\n",
       "      <td>-0.255425</td>\n",
       "      <td>...</td>\n",
       "      <td>-0.225775</td>\n",
       "      <td>-0.638672</td>\n",
       "      <td>0.101288</td>\n",
       "      <td>-0.339846</td>\n",
       "      <td>0.167170</td>\n",
       "      <td>0.125895</td>\n",
       "      <td>-0.008983</td>\n",
       "      <td>0.014724</td>\n",
       "      <td>0.000105</td>\n",
       "      <td>0</td>\n",
       "    </tr>\n",
       "    <tr>\n",
       "      <th>2</th>\n",
       "      <td>0.000006</td>\n",
       "      <td>-1.358354</td>\n",
       "      <td>-1.340163</td>\n",
       "      <td>1.773209</td>\n",
       "      <td>0.379780</td>\n",
       "      <td>-0.503198</td>\n",
       "      <td>1.800499</td>\n",
       "      <td>0.791461</td>\n",
       "      <td>0.247676</td>\n",
       "      <td>-1.514654</td>\n",
       "      <td>...</td>\n",
       "      <td>0.247998</td>\n",
       "      <td>0.771679</td>\n",
       "      <td>0.909412</td>\n",
       "      <td>-0.689281</td>\n",
       "      <td>-0.327642</td>\n",
       "      <td>-0.139097</td>\n",
       "      <td>-0.055353</td>\n",
       "      <td>-0.059752</td>\n",
       "      <td>0.014739</td>\n",
       "      <td>0</td>\n",
       "    </tr>\n",
       "    <tr>\n",
       "      <th>3</th>\n",
       "      <td>0.000006</td>\n",
       "      <td>-0.966272</td>\n",
       "      <td>-0.185226</td>\n",
       "      <td>1.792993</td>\n",
       "      <td>-0.863291</td>\n",
       "      <td>-0.010309</td>\n",
       "      <td>1.247203</td>\n",
       "      <td>0.237609</td>\n",
       "      <td>0.377436</td>\n",
       "      <td>-1.387024</td>\n",
       "      <td>...</td>\n",
       "      <td>-0.108300</td>\n",
       "      <td>0.005274</td>\n",
       "      <td>-0.190321</td>\n",
       "      <td>-1.175575</td>\n",
       "      <td>0.647376</td>\n",
       "      <td>-0.221929</td>\n",
       "      <td>0.062723</td>\n",
       "      <td>0.061458</td>\n",
       "      <td>0.004807</td>\n",
       "      <td>0</td>\n",
       "    </tr>\n",
       "    <tr>\n",
       "      <th>4</th>\n",
       "      <td>0.000012</td>\n",
       "      <td>-1.158233</td>\n",
       "      <td>0.877737</td>\n",
       "      <td>1.548718</td>\n",
       "      <td>0.403034</td>\n",
       "      <td>-0.407193</td>\n",
       "      <td>0.095921</td>\n",
       "      <td>0.592941</td>\n",
       "      <td>-0.270533</td>\n",
       "      <td>0.817739</td>\n",
       "      <td>...</td>\n",
       "      <td>-0.009431</td>\n",
       "      <td>0.798278</td>\n",
       "      <td>-0.137458</td>\n",
       "      <td>0.141267</td>\n",
       "      <td>-0.206010</td>\n",
       "      <td>0.502292</td>\n",
       "      <td>0.219422</td>\n",
       "      <td>0.215153</td>\n",
       "      <td>0.002724</td>\n",
       "      <td>0</td>\n",
       "    </tr>\n",
       "  </tbody>\n",
       "</table>\n",
       "<p>5 rows × 31 columns</p>\n",
       "</div>"
      ],
      "text/plain": [
       "       Time        V1        V2        V3        V4        V5        V6  \\\n",
       "0  0.000000 -1.359807 -0.072781  2.536347  1.378155 -0.338321  0.462388   \n",
       "1  0.000000  1.191857  0.266151  0.166480  0.448154  0.060018 -0.082361   \n",
       "2  0.000006 -1.358354 -1.340163  1.773209  0.379780 -0.503198  1.800499   \n",
       "3  0.000006 -0.966272 -0.185226  1.792993 -0.863291 -0.010309  1.247203   \n",
       "4  0.000012 -1.158233  0.877737  1.548718  0.403034 -0.407193  0.095921   \n",
       "\n",
       "         V7        V8        V9  ...       V21       V22       V23       V24  \\\n",
       "0  0.239599  0.098698  0.363787  ... -0.018307  0.277838 -0.110474  0.066928   \n",
       "1 -0.078803  0.085102 -0.255425  ... -0.225775 -0.638672  0.101288 -0.339846   \n",
       "2  0.791461  0.247676 -1.514654  ...  0.247998  0.771679  0.909412 -0.689281   \n",
       "3  0.237609  0.377436 -1.387024  ... -0.108300  0.005274 -0.190321 -1.175575   \n",
       "4  0.592941 -0.270533  0.817739  ... -0.009431  0.798278 -0.137458  0.141267   \n",
       "\n",
       "        V25       V26       V27       V28    Amount  Class  \n",
       "0  0.128539 -0.189115  0.133558 -0.021053  0.005824      0  \n",
       "1  0.167170  0.125895 -0.008983  0.014724  0.000105      0  \n",
       "2 -0.327642 -0.139097 -0.055353 -0.059752  0.014739      0  \n",
       "3  0.647376 -0.221929  0.062723  0.061458  0.004807      0  \n",
       "4 -0.206010  0.502292  0.219422  0.215153  0.002724      0  \n",
       "\n",
       "[5 rows x 31 columns]"
      ]
     },
     "execution_count": 81,
     "metadata": {},
     "output_type": "execute_result"
    }
   ],
   "source": [
    "## View Transformed credit data\n",
    "df_credit_card.head()"
   ]
  },
  {
   "cell_type": "code",
   "execution_count": 82,
   "metadata": {
    "execution": {
     "iopub.execute_input": "2025-02-10T08:06:55.901250Z",
     "iopub.status.busy": "2025-02-10T08:06:55.900929Z",
     "iopub.status.idle": "2025-02-10T08:06:55.917302Z",
     "shell.execute_reply": "2025-02-10T08:06:55.916425Z",
     "shell.execute_reply.started": "2025-02-10T08:06:55.901218Z"
    },
    "trusted": true
   },
   "outputs": [
    {
     "data": {
      "text/html": [
       "<div>\n",
       "<style scoped>\n",
       "    .dataframe tbody tr th:only-of-type {\n",
       "        vertical-align: middle;\n",
       "    }\n",
       "\n",
       "    .dataframe tbody tr th {\n",
       "        vertical-align: top;\n",
       "    }\n",
       "\n",
       "    .dataframe thead th {\n",
       "        text-align: right;\n",
       "    }\n",
       "</style>\n",
       "<table border=\"1\" class=\"dataframe\">\n",
       "  <thead>\n",
       "    <tr style=\"text-align: right;\">\n",
       "      <th></th>\n",
       "      <th>purchase_value</th>\n",
       "      <th>age</th>\n",
       "      <th>class</th>\n",
       "      <th>country</th>\n",
       "      <th>hour</th>\n",
       "      <th>month</th>\n",
       "      <th>day</th>\n",
       "      <th>weekday</th>\n",
       "      <th>frequency</th>\n",
       "      <th>velocity</th>\n",
       "      <th>source_Direct</th>\n",
       "      <th>source_SEO</th>\n",
       "      <th>browser_FireFox</th>\n",
       "      <th>browser_IE</th>\n",
       "      <th>browser_Opera</th>\n",
       "      <th>browser_Safari</th>\n",
       "      <th>sex_M</th>\n",
       "      <th>time_difference</th>\n",
       "    </tr>\n",
       "  </thead>\n",
       "  <tbody>\n",
       "    <tr>\n",
       "      <th>0</th>\n",
       "      <td>0.172414</td>\n",
       "      <td>0.362069</td>\n",
       "      <td>0</td>\n",
       "      <td>84</td>\n",
       "      <td>2</td>\n",
       "      <td>4</td>\n",
       "      <td>18</td>\n",
       "      <td>5</td>\n",
       "      <td>1</td>\n",
       "      <td>0.172414</td>\n",
       "      <td>False</td>\n",
       "      <td>True</td>\n",
       "      <td>False</td>\n",
       "      <td>False</td>\n",
       "      <td>False</td>\n",
       "      <td>False</td>\n",
       "      <td>True</td>\n",
       "      <td>0.434673</td>\n",
       "    </tr>\n",
       "    <tr>\n",
       "      <th>1</th>\n",
       "      <td>0.048276</td>\n",
       "      <td>0.603448</td>\n",
       "      <td>0</td>\n",
       "      <td>171</td>\n",
       "      <td>1</td>\n",
       "      <td>6</td>\n",
       "      <td>8</td>\n",
       "      <td>0</td>\n",
       "      <td>1</td>\n",
       "      <td>0.048276</td>\n",
       "      <td>False</td>\n",
       "      <td>False</td>\n",
       "      <td>False</td>\n",
       "      <td>False</td>\n",
       "      <td>False</td>\n",
       "      <td>False</td>\n",
       "      <td>False</td>\n",
       "      <td>0.001731</td>\n",
       "    </tr>\n",
       "    <tr>\n",
       "      <th>2</th>\n",
       "      <td>0.041379</td>\n",
       "      <td>0.603448</td>\n",
       "      <td>1</td>\n",
       "      <td>171</td>\n",
       "      <td>18</td>\n",
       "      <td>1</td>\n",
       "      <td>1</td>\n",
       "      <td>3</td>\n",
       "      <td>1</td>\n",
       "      <td>0.041379</td>\n",
       "      <td>False</td>\n",
       "      <td>True</td>\n",
       "      <td>False</td>\n",
       "      <td>False</td>\n",
       "      <td>True</td>\n",
       "      <td>False</td>\n",
       "      <td>True</td>\n",
       "      <td>0.000000</td>\n",
       "    </tr>\n",
       "    <tr>\n",
       "      <th>3</th>\n",
       "      <td>0.241379</td>\n",
       "      <td>0.396552</td>\n",
       "      <td>0</td>\n",
       "      <td>172</td>\n",
       "      <td>13</td>\n",
       "      <td>5</td>\n",
       "      <td>4</td>\n",
       "      <td>0</td>\n",
       "      <td>1</td>\n",
       "      <td>0.241379</td>\n",
       "      <td>False</td>\n",
       "      <td>True</td>\n",
       "      <td>False</td>\n",
       "      <td>False</td>\n",
       "      <td>False</td>\n",
       "      <td>True</td>\n",
       "      <td>True</td>\n",
       "      <td>0.047462</td>\n",
       "    </tr>\n",
       "    <tr>\n",
       "      <th>4</th>\n",
       "      <td>0.206897</td>\n",
       "      <td>0.465517</td>\n",
       "      <td>0</td>\n",
       "      <td>171</td>\n",
       "      <td>18</td>\n",
       "      <td>9</td>\n",
       "      <td>9</td>\n",
       "      <td>2</td>\n",
       "      <td>1</td>\n",
       "      <td>0.206897</td>\n",
       "      <td>False</td>\n",
       "      <td>False</td>\n",
       "      <td>False</td>\n",
       "      <td>False</td>\n",
       "      <td>False</td>\n",
       "      <td>True</td>\n",
       "      <td>True</td>\n",
       "      <td>0.420667</td>\n",
       "    </tr>\n",
       "  </tbody>\n",
       "</table>\n",
       "</div>"
      ],
      "text/plain": [
       "   purchase_value       age  class  country  hour  month  day  weekday  \\\n",
       "0        0.172414  0.362069      0       84     2      4   18        5   \n",
       "1        0.048276  0.603448      0      171     1      6    8        0   \n",
       "2        0.041379  0.603448      1      171    18      1    1        3   \n",
       "3        0.241379  0.396552      0      172    13      5    4        0   \n",
       "4        0.206897  0.465517      0      171    18      9    9        2   \n",
       "\n",
       "   frequency  velocity  source_Direct  source_SEO  browser_FireFox  \\\n",
       "0          1  0.172414          False        True            False   \n",
       "1          1  0.048276          False       False            False   \n",
       "2          1  0.041379          False        True            False   \n",
       "3          1  0.241379          False        True            False   \n",
       "4          1  0.206897          False       False            False   \n",
       "\n",
       "   browser_IE  browser_Opera  browser_Safari  sex_M  time_difference  \n",
       "0       False          False           False   True         0.434673  \n",
       "1       False          False           False  False         0.001731  \n",
       "2       False           True           False   True         0.000000  \n",
       "3       False          False            True   True         0.047462  \n",
       "4       False          False            True   True         0.420667  "
      ]
     },
     "execution_count": 82,
     "metadata": {},
     "output_type": "execute_result"
    }
   ],
   "source": [
    "## View Transformed Fraud data\n",
    "df_fraud.head()"
   ]
  },
  {
   "cell_type": "markdown",
   "metadata": {},
   "source": [
    "## ***Train Test Split***"
   ]
  },
  {
   "cell_type": "code",
   "execution_count": 83,
   "metadata": {
    "execution": {
     "iopub.execute_input": "2025-02-10T08:07:42.103980Z",
     "iopub.status.busy": "2025-02-10T08:07:42.103581Z",
     "iopub.status.idle": "2025-02-10T08:07:42.144939Z",
     "shell.execute_reply": "2025-02-10T08:07:42.143928Z",
     "shell.execute_reply.started": "2025-02-10T08:07:42.103947Z"
    },
    "trusted": true
   },
   "outputs": [],
   "source": [
    "## Feature and Target Separation for both datasets\n",
    "X_fraud = df_fraud.drop(columns=['class'])\n",
    "y_fraud = df_fraud['class']\n",
    "\n",
    "X_credit = df_credit_card.drop(columns=['Class'])\n",
    "y_credit = df_credit_card['Class']"
   ]
  },
  {
   "cell_type": "code",
   "execution_count": 84,
   "metadata": {
    "execution": {
     "iopub.execute_input": "2025-02-10T08:15:41.470108Z",
     "iopub.status.busy": "2025-02-10T08:15:41.469693Z",
     "iopub.status.idle": "2025-02-10T08:15:41.714472Z",
     "shell.execute_reply": "2025-02-10T08:15:41.713452Z",
     "shell.execute_reply.started": "2025-02-10T08:15:41.470077Z"
    },
    "trusted": true
   },
   "outputs": [],
   "source": [
    "## 80-20 Training and Test dataset split\n",
    "\n",
    "## For Fraud Data\n",
    "X_train_fraud,X_test_fraud,y_train_fraud,y_test_fraud = train_test_split(X_fraud,y_fraud,test_size=0.2, random_state=42,stratify=y_fraud)\n",
    "\n",
    "## For Credit Card Data\n",
    "X_train_credit,X_test_credit,y_train_credit,y_test_credit = train_test_split(X_credit,y_credit,test_size=0.2, random_state=42,stratify=y_credit)\n"
   ]
  },
  {
   "cell_type": "code",
   "execution_count": 85,
   "metadata": {
    "execution": {
     "iopub.execute_input": "2025-02-10T08:18:08.457689Z",
     "iopub.status.busy": "2025-02-10T08:18:08.457378Z",
     "iopub.status.idle": "2025-02-10T08:18:08.467015Z",
     "shell.execute_reply": "2025-02-10T08:18:08.466027Z",
     "shell.execute_reply.started": "2025-02-10T08:18:08.457665Z"
    },
    "trusted": true
   },
   "outputs": [
    {
     "name": "stdout",
     "output_type": "stream",
     "text": [
      "The distribution of fraud class in the fraud dataset: class\n",
      "0    109568\n",
      "1     11321\n",
      "Name: count, dtype: int64\n",
      "The distribution of fraud class in the credit dataset: Class\n",
      "0    227451\n",
      "1       394\n",
      "Name: count, dtype: int64\n"
     ]
    }
   ],
   "source": [
    "## Print the class distribution\n",
    "print(f\"The distribution of fraud class in the fraud dataset: {y_train_fraud.value_counts()}\")\n",
    "print(f\"The distribution of fraud class in the credit dataset: {y_train_credit.value_counts()}\")"
   ]
  },
  {
   "cell_type": "markdown",
   "metadata": {},
   "source": [
    "### ***Observation***\n",
    "***As evident from the code above, there is a class imbalance in both datasets. To address this issue and enhance model performance, we will apply SMOTE (Synthetic Minority Over-sampling Technique) to balance the classes.***"
   ]
  },
  {
   "cell_type": "code",
   "execution_count": 86,
   "metadata": {
    "execution": {
     "iopub.execute_input": "2025-02-10T08:26:59.178656Z",
     "iopub.status.busy": "2025-02-10T08:26:59.178347Z",
     "iopub.status.idle": "2025-02-10T08:26:59.981029Z",
     "shell.execute_reply": "2025-02-10T08:26:59.980305Z",
     "shell.execute_reply.started": "2025-02-10T08:26:59.178631Z"
    },
    "trusted": true
   },
   "outputs": [],
   "source": [
    "# Initialize SMOTE\n",
    "smote = SMOTE(random_state=42)\n",
    "\n",
    "X_train_fraud_resampled, y_train_fraud_resampled = smote.fit_resample(X_train_fraud, y_train_fraud)\n",
    "X_train_credit_resampled, y_train_credit_resampled = smote.fit_resample(X_train_credit,y_train_credit)"
   ]
  },
  {
   "cell_type": "code",
   "execution_count": 87,
   "metadata": {
    "execution": {
     "iopub.execute_input": "2025-02-10T08:27:54.612168Z",
     "iopub.status.busy": "2025-02-10T08:27:54.611748Z",
     "iopub.status.idle": "2025-02-10T08:27:54.623632Z",
     "shell.execute_reply": "2025-02-10T08:27:54.622467Z",
     "shell.execute_reply.started": "2025-02-10T08:27:54.612138Z"
    },
    "trusted": true
   },
   "outputs": [
    {
     "name": "stdout",
     "output_type": "stream",
     "text": [
      "The distribution of fraud class in the fraud dataset: class\n",
      "0    109568\n",
      "1    109568\n",
      "Name: count, dtype: int64\n",
      "The distribution of fraud class in the credit dataset: Class\n",
      "0    227451\n",
      "1    227451\n",
      "Name: count, dtype: int64\n"
     ]
    }
   ],
   "source": [
    "## Check for class imbalance\n",
    "print(f\"The distribution of fraud class in the fraud dataset: {y_train_fraud_resampled.value_counts()}\")\n",
    "print(f\"The distribution of fraud class in the credit dataset: {y_train_credit_resampled.value_counts()}\")"
   ]
  },
  {
   "cell_type": "markdown",
   "metadata": {},
   "source": [
    "## ***Model Building and Training***"
   ]
  },
  {
   "cell_type": "code",
   "execution_count": 88,
   "metadata": {},
   "outputs": [],
   "source": [
    "## Functions for model evaluation and confusion matrix plotting\n",
    "\n",
    "## Function to evaluate the model\n",
    "def evaluate_model(model,X_test,y_test):\n",
    "    y_pred = model.predict(X_test)\n",
    "    accuracy = accuracy_score(y_test,y_pred)\n",
    "    report = classification_report(y_test,y_pred)\n",
    "    conf_matrix = confusion_matrix(y_test,y_pred)\n",
    "    return accuracy, report, conf_matrix\n",
    "\n",
    "## Function to plot the confusion matrix\n",
    "def plot_confusion_matrix(cm, title='Confusion Matrix'):\n",
    "    plt.figure(figsize=(6, 5))\n",
    "    sns.heatmap(cm, annot=True, fmt='d', cmap='Blues', cbar=False,\n",
    "                xticklabels=['Not Fraud', 'Fraud'], yticklabels=['Not Fraud', 'Fraud'])\n",
    "    plt.title(title)\n",
    "    plt.xlabel('Predicted')\n",
    "    plt.ylabel('Actual')\n",
    "    plt.show()"
   ]
  },
  {
   "cell_type": "markdown",
   "metadata": {},
   "source": [
    "### ***1. Logistic Regression Model***"
   ]
  },
  {
   "cell_type": "code",
   "execution_count": 89,
   "metadata": {},
   "outputs": [],
   "source": [
    "def train_model_lgr(X_train, y_train):\n",
    "    ## Initialize the model\n",
    "    lgr = LogisticRegression(max_iter=1000,random_state=42)\n",
    "    ## Fit the model\n",
    "    lgr.fit(X_train, y_train)\n",
    "    return lgr"
   ]
  },
  {
   "cell_type": "code",
   "execution_count": 90,
   "metadata": {},
   "outputs": [],
   "source": [
    "## fit the model on the resampled fraud dataset and credit card dataset\n",
    "model_fraud = train_model_lgr(X_train_fraud_resampled, y_train_fraud_resampled)\n",
    "model_credit = train_model_lgr(X_train_credit_resampled, y_train_credit_resampled)"
   ]
  },
  {
   "cell_type": "code",
   "execution_count": 91,
   "metadata": {},
   "outputs": [
    {
     "name": "stdout",
     "output_type": "stream",
     "text": [
      "Fraud Dataset: Accuracy: 0.7522416702511332\n",
      "Fraud Dataset: Classification Report:\n",
      "              precision    recall  f1-score   support\n",
      "\n",
      "           0       0.95      0.76      0.85     27393\n",
      "           1       0.22      0.64      0.33      2830\n",
      "\n",
      "    accuracy                           0.75     30223\n",
      "   macro avg       0.59      0.70      0.59     30223\n",
      "weighted avg       0.89      0.75      0.80     30223\n",
      "\n",
      "Credit Card Dataset: Accuracy: 0.9740704329201925\n",
      "Credit Card Dataset: Classification Report:\n",
      "              precision    recall  f1-score   support\n",
      "\n",
      "           0       1.00      0.97      0.99     56864\n",
      "           1       0.06      0.92      0.11        98\n",
      "\n",
      "    accuracy                           0.97     56962\n",
      "   macro avg       0.53      0.95      0.55     56962\n",
      "weighted avg       1.00      0.97      0.99     56962\n",
      "\n"
     ]
    }
   ],
   "source": [
    "## Evaluate the model on the test dataset\n",
    "accuracy_fraud, report_fraud, conf_matrix_fraud = evaluate_model(model_fraud,X_test_fraud,y_test_fraud)\n",
    "accuracy_credit, report_credit, conf_matrix_credit = evaluate_model(model_credit,X_test_credit,y_test_credit)\n",
    "\n",
    "print(f\"Fraud Dataset: Accuracy: {accuracy_fraud}\")\n",
    "print(f\"Fraud Dataset: Classification Report:\")\n",
    "print(report_fraud)\n",
    "\n",
    "\n",
    "print(f\"Credit Card Dataset: Accuracy: {accuracy_credit}\")\n",
    "print(f\"Credit Card Dataset: Classification Report:\")\n",
    "print(report_credit)\n"
   ]
  },
  {
   "cell_type": "code",
   "execution_count": 92,
   "metadata": {},
   "outputs": [
    {
     "data": {
      "image/png": "[encoded data removed]",
      "text/plain": [
       "<Figure size 600x500 with 1 Axes>"
      ]
     },
     "metadata": {},
     "output_type": "display_data"
    },
    {
     "data": {
      "image/png": "[encoded data removed]",
      "text/plain": [
       "<Figure size 600x500 with 1 Axes>"
      ]
     },
     "metadata": {},
     "output_type": "display_data"
    }
   ],
   "source": [
    "# Plot for Credit Card Data\n",
    "plot_confusion_matrix(conf_matrix_credit, title='Credit Card Data Confusion Matrix Logistic Regression')\n",
    "\n",
    "# Plot for Fraud Data\n",
    "plot_confusion_matrix(conf_matrix_fraud, title='Fraud Data Confusion Matrix Logistic Regression')"
   ]
  },
  {
   "cell_type": "code",
   "execution_count": 93,
   "metadata": {},
   "outputs": [
    {
     "name": "stderr",
     "output_type": "stream",
     "text": [
      "2025/02/11 13:50:57 WARNING mlflow.models.model: Model logged without a signature and input example. Please set `input_example` parameter when logging the model to auto infer the model signature.\n"
     ]
    },
    {
     "name": "stdout",
     "output_type": "stream",
     "text": [
      "🏃 View run receptive-stork-223 at: http://127.0.0.1:5000/#/experiments/568887781401905765/runs/c4ce1c5a4cc945e0aa6347ba836bbcae\n",
      "🧪 View experiment at: http://127.0.0.1:5000/#/experiments/568887781401905765\n"
     ]
    }
   ],
   "source": [
    "# Set our tracking server uri for logging\n",
    "mlflow.set_tracking_uri(uri=\"http://127.0.0.1:5000\")\n",
    "\n",
    "# Create a new MLflow Experiment\n",
    "mlflow.set_experiment(\"Logistic Regression Model for Fraud Dataset\")\n",
    "\n",
    "# Start an MLflow run for fraud dataset\n",
    "with mlflow.start_run():\n",
    "    # Log the hyperparameters\n",
    "    mlflow.log_params({\"max_iter\": 1000, \"random_state\": 42})\n",
    "\n",
    "    # Log the loss metric\n",
    "    mlflow.log_metric(\"accuracy\", accuracy_fraud)\n",
    "\n",
    "    # Log the classification report\n",
    "    mlflow.log_param(\"classification_report\", report_fraud)\n",
    "\n",
    "    # Log the model\n",
    "    mlflow.sklearn.log_model(model_fraud, \"model\")\n"
   ]
  },
  {
   "cell_type": "code",
   "execution_count": 94,
   "metadata": {},
   "outputs": [
    {
     "name": "stderr",
     "output_type": "stream",
     "text": [
      "2025/02/11 13:51:03 WARNING mlflow.models.model: Model logged without a signature and input example. Please set `input_example` parameter when logging the model to auto infer the model signature.\n"
     ]
    },
    {
     "name": "stdout",
     "output_type": "stream",
     "text": [
      "🏃 View run powerful-grouse-403 at: http://127.0.0.1:5000/#/experiments/763447790967217867/runs/d53e5ac9964e4402bc118eb3cbf2283b\n",
      "🧪 View experiment at: http://127.0.0.1:5000/#/experiments/763447790967217867\n"
     ]
    }
   ],
   "source": [
    "# Create a new MLflow Experiment\n",
    "mlflow.set_experiment(\"Logistic Regression Model for Credit Card Dataset\")\n",
    "\n",
    "# Start an MLflow run for fraud dataset\n",
    "with mlflow.start_run():\n",
    "    # Log the hyperparameters\n",
    "    mlflow.log_params({\"max_iter\": 1000, \"random_state\": 42})\n",
    "\n",
    "    # Log the loss metric\n",
    "    mlflow.log_metric(\"accuracy\", accuracy_credit)\n",
    "\n",
    "    # Log the classification report\n",
    "    mlflow.log_param(\"classification_report\", report_credit)\n",
    "\n",
    "    # Log the model\n",
    "    mlflow.sklearn.log_model(model_credit, \"model\")"
   ]
  },
  {
   "cell_type": "markdown",
   "metadata": {},
   "source": [
    "### ***2. Decision Tree Model***"
   ]
  },
  {
   "cell_type": "code",
   "execution_count": 95,
   "metadata": {},
   "outputs": [],
   "source": [
    "## define a function to train the model\n",
    "def train_model_tree(X_train, y_train):\n",
    "    ## Initialize the model\n",
    "    tree = DecisionTreeClassifier(random_state=42)\n",
    "    ## Fit the model\n",
    "    tree.fit(X_train, y_train)\n",
    "    return tree"
   ]
  },
  {
   "cell_type": "code",
   "execution_count": 96,
   "metadata": {},
   "outputs": [],
   "source": [
    "## fit the model on the resampled fraud dataset and credit card dataset\n",
    "model_fraud_tree = train_model_tree(X_train_fraud_resampled, y_train_fraud_resampled)\n",
    "model_credit_tree = train_model_tree(X_train_credit_resampled, y_train_credit_resampled)"
   ]
  },
  {
   "cell_type": "code",
   "execution_count": 97,
   "metadata": {},
   "outputs": [
    {
     "name": "stdout",
     "output_type": "stream",
     "text": [
      "Fraud Dataset: Accuracy: 0.865003474175297\n",
      "Fraud Dataset: Classification Report:\n",
      "              precision    recall  f1-score   support\n",
      "\n",
      "           0       0.95      0.90      0.92     27393\n",
      "           1       0.36      0.57      0.44      2830\n",
      "\n",
      "    accuracy                           0.87     30223\n",
      "   macro avg       0.66      0.73      0.68     30223\n",
      "weighted avg       0.90      0.87      0.88     30223\n",
      "\n",
      "Credit Card Dataset: Accuracy: 0.9973666654962958\n",
      "Credit Card Dataset: Classification Report:\n",
      "              precision    recall  f1-score   support\n",
      "\n",
      "           0       1.00      1.00      1.00     56864\n",
      "           1       0.37      0.79      0.51        98\n",
      "\n",
      "    accuracy                           1.00     56962\n",
      "   macro avg       0.69      0.89      0.75     56962\n",
      "weighted avg       1.00      1.00      1.00     56962\n",
      "\n"
     ]
    }
   ],
   "source": [
    "## Evaluate the model on the test dataset\n",
    "accuracy_fraud_tree, report_fraud_tree, conf_matrix_fraud_tree = evaluate_model(model_fraud_tree,X_test_fraud,y_test_fraud)\n",
    "accuracy_credit_tree, report_credit_tree, conf_matrix_credit_tree = evaluate_model(model_credit_tree,X_test_credit,y_test_credit)\n",
    "\n",
    "print(f\"Fraud Dataset: Accuracy: {accuracy_fraud_tree}\")\n",
    "print(f\"Fraud Dataset: Classification Report:\")\n",
    "print(report_fraud_tree)\n",
    "\n",
    "\n",
    "print(f\"Credit Card Dataset: Accuracy: {accuracy_credit_tree}\")\n",
    "print(f\"Credit Card Dataset: Classification Report:\")\n",
    "print(report_credit_tree)"
   ]
  },
  {
   "cell_type": "code",
   "execution_count": 98,
   "metadata": {},
   "outputs": [
    {
     "data": {
      "image/png": "[encoded data removed]",
      "text/plain": [
       "<Figure size 600x500 with 1 Axes>"
      ]
     },
     "metadata": {},
     "output_type": "display_data"
    },
    {
     "data": {
      "image/png": "[encoded data removed]",
      "text/plain": [
       "<Figure size 600x500 with 1 Axes>"
      ]
     },
     "metadata": {},
     "output_type": "display_data"
    }
   ],
   "source": [
    "# Plot for Credit Card Data\n",
    "plot_confusion_matrix(conf_matrix_credit_tree, title='Credit Card Data Confusion Matrix Decision Tree')\n",
    "\n",
    "# Plot for Fraud Data\n",
    "plot_confusion_matrix(conf_matrix_fraud_tree, title='Fraud Data Confusion Matrix Decision Tree')"
   ]
  },
  {
   "cell_type": "code",
   "execution_count": 99,
   "metadata": {},
   "outputs": [
    {
     "name": "stderr",
     "output_type": "stream",
     "text": [
      "2025/02/11 13:52:44 WARNING mlflow.models.model: Model logged without a signature and input example. Please set `input_example` parameter when logging the model to auto infer the model signature.\n"
     ]
    },
    {
     "name": "stdout",
     "output_type": "stream",
     "text": [
      "🏃 View run intelligent-ray-417 at: http://127.0.0.1:5000/#/experiments/854806366494140679/runs/6b57b89e8a6a4f6baff5fb25a1f2869d\n",
      "🧪 View experiment at: http://127.0.0.1:5000/#/experiments/854806366494140679\n"
     ]
    }
   ],
   "source": [
    "# Create a new MLflow Experiment\n",
    "mlflow.set_experiment(\"Decision Tree Model for Fraud Dataset\")\n",
    "\n",
    "# Start an MLflow run for fraud dataset\n",
    "with mlflow.start_run():\n",
    "    # Log the hyperparameters\n",
    "    mlflow.log_param(\"random_state\", 42)\n",
    "\n",
    "    # Log the loss metric\n",
    "    mlflow.log_metric(\"accuracy\", accuracy_fraud_tree)\n",
    "\n",
    "    # Log the classification report\n",
    "    mlflow.log_param(\"classification_report\", report_fraud_tree)\n",
    "\n",
    "    # Log the model\n",
    "    mlflow.sklearn.log_model(model_fraud_tree, \"model\")"
   ]
  },
  {
   "cell_type": "code",
   "execution_count": 100,
   "metadata": {},
   "outputs": [
    {
     "name": "stderr",
     "output_type": "stream",
     "text": [
      "2025/02/11 13:52:50 WARNING mlflow.models.model: Model logged without a signature and input example. Please set `input_example` parameter when logging the model to auto infer the model signature.\n"
     ]
    },
    {
     "name": "stdout",
     "output_type": "stream",
     "text": [
      "🏃 View run zealous-skink-183 at: http://127.0.0.1:5000/#/experiments/462150722337314884/runs/1821896cb8b342e6be2fa88617b90e25\n",
      "🧪 View experiment at: http://127.0.0.1:5000/#/experiments/462150722337314884\n"
     ]
    }
   ],
   "source": [
    "# Create a new MLflow Experiment\n",
    "mlflow.set_experiment(\"Decision Tree Model for Credit Dataset\")\n",
    "\n",
    "# Start an MLflow run for fraud dataset\n",
    "with mlflow.start_run():\n",
    "    # Log the hyperparameters\n",
    "    mlflow.log_param(\"random_state\", 42)\n",
    "\n",
    "    # Log the loss metric\n",
    "    mlflow.log_metric(\"accuracy\", accuracy_credit_tree)\n",
    "\n",
    "    # Log the classification report\n",
    "    mlflow.log_param(\"classification_report\", report_credit_tree)\n",
    "\n",
    "    # Log the model\n",
    "    mlflow.sklearn.log_model(model_credit_tree, \"model\")"
   ]
  },
  {
   "cell_type": "markdown",
   "metadata": {},
   "source": [
    "### ***3. Random Forest Model***"
   ]
  },
  {
   "cell_type": "code",
   "execution_count": 101,
   "metadata": {},
   "outputs": [],
   "source": [
    "## define a function to train the model\n",
    "def train_model_rfc(X_train, y_train):\n",
    "    ## Initialize the model\n",
    "    rfc = RandomForestClassifier(random_state=42)\n",
    "    ## Fit the model\n",
    "    rfc.fit(X_train, y_train)\n",
    "    return rfc"
   ]
  },
  {
   "cell_type": "code",
   "execution_count": 102,
   "metadata": {},
   "outputs": [],
   "source": [
    "## fit the model on the resampled fraud dataset and credit card dataset\n",
    "model_fraud_rfc = train_model_rfc(X_train_fraud_resampled, y_train_fraud_resampled)\n",
    "model_credit_rfc = train_model_rfc(X_train_credit_resampled, y_train_credit_resampled)"
   ]
  },
  {
   "cell_type": "code",
   "execution_count": 103,
   "metadata": {},
   "outputs": [
    {
     "name": "stdout",
     "output_type": "stream",
     "text": [
      "Fraud Dataset: Accuracy: 0.9429573503623069\n",
      "Fraud Dataset: Classification Report:\n",
      "              precision    recall  f1-score   support\n",
      "\n",
      "           0       0.95      0.99      0.97     27393\n",
      "           1       0.79      0.53      0.64      2830\n",
      "\n",
      "    accuracy                           0.94     30223\n",
      "   macro avg       0.87      0.76      0.80     30223\n",
      "weighted avg       0.94      0.94      0.94     30223\n",
      "\n",
      "Credit Card Dataset: Accuracy: 0.9994382219725431\n",
      "Credit Card Dataset: Classification Report:\n",
      "              precision    recall  f1-score   support\n",
      "\n",
      "           0       1.00      1.00      1.00     56864\n",
      "           1       0.85      0.82      0.83        98\n",
      "\n",
      "    accuracy                           1.00     56962\n",
      "   macro avg       0.93      0.91      0.92     56962\n",
      "weighted avg       1.00      1.00      1.00     56962\n",
      "\n"
     ]
    }
   ],
   "source": [
    "## Evaluate the model on the test dataset\n",
    "accuracy_fraud_rfc, report_fraud_rfc, conf_matrix_fraud_rfc = evaluate_model(model_fraud_rfc,X_test_fraud,y_test_fraud)\n",
    "accuracy_credit_rfc, report_credit_rfc, conf_matrix_credit_rfc = evaluate_model(model_credit_rfc,X_test_credit,y_test_credit)\n",
    "\n",
    "print(f\"Fraud Dataset: Accuracy: {accuracy_fraud_rfc}\")\n",
    "print(f\"Fraud Dataset: Classification Report:\")\n",
    "print(report_fraud_rfc)\n",
    "\n",
    "\n",
    "print(f\"Credit Card Dataset: Accuracy: {accuracy_credit_rfc}\")\n",
    "print(f\"Credit Card Dataset: Classification Report:\")\n",
    "print(report_credit_rfc)"
   ]
  },
  {
   "cell_type": "code",
   "execution_count": 104,
   "metadata": {},
   "outputs": [
    {
     "data": {
      "image/png": "[encoded data removed]",
      "text/plain": [
       "<Figure size 600x500 with 1 Axes>"
      ]
     },
     "metadata": {},
     "output_type": "display_data"
    },
    {
     "data": {
      "image/png": "[encoded data removed]",
      "text/plain": [
       "<Figure size 600x500 with 1 Axes>"
      ]
     },
     "metadata": {},
     "output_type": "display_data"
    }
   ],
   "source": [
    "# Plot for Credit Card Data\n",
    "plot_confusion_matrix(conf_matrix_credit_tree, title='Credit Card Data Confusion Matrix Random Forest')\n",
    "\n",
    "# Plot for Fraud Data\n",
    "plot_confusion_matrix(conf_matrix_fraud_tree, title='Fraud Data Confusion Matrix Random Forest')"
   ]
  },
  {
   "cell_type": "code",
   "execution_count": 105,
   "metadata": {},
   "outputs": [
    {
     "name": "stderr",
     "output_type": "stream",
     "text": [
      "2025/02/11 14:16:53 WARNING mlflow.models.model: Model logged without a signature and input example. Please set `input_example` parameter when logging the model to auto infer the model signature.\n"
     ]
    },
    {
     "name": "stdout",
     "output_type": "stream",
     "text": [
      "🏃 View run gentle-ape-546 at: http://127.0.0.1:5000/#/experiments/608135780720652931/runs/1931e2752fef4750b846fc663c2595ca\n",
      "🧪 View experiment at: http://127.0.0.1:5000/#/experiments/608135780720652931\n"
     ]
    }
   ],
   "source": [
    "# Create a new MLflow Experiment\n",
    "mlflow.set_experiment(\"Random Forest Model for Fraud Dataset\")\n",
    "\n",
    "# Start an MLflow run for fraud dataset\n",
    "with mlflow.start_run():\n",
    "    # Log the hyperparameters\n",
    "    mlflow.log_param(\"random_state\", 42)\n",
    "\n",
    "    # Log the loss metric\n",
    "    mlflow.log_metric(\"accuracy\", accuracy_fraud_rfc)\n",
    "\n",
    "    # Log the classification report\n",
    "    mlflow.log_param(\"classification_report\", report_fraud_rfc)\n",
    "\n",
    "    # Log the model\n",
    "    mlflow.sklearn.log_model(model_fraud_rfc, \"model\")"
   ]
  },
  {
   "cell_type": "code",
   "execution_count": 106,
   "metadata": {},
   "outputs": [
    {
     "name": "stderr",
     "output_type": "stream",
     "text": [
      "2025/02/11 14:17:09 WARNING mlflow.models.model: Model logged without a signature and input example. Please set `input_example` parameter when logging the model to auto infer the model signature.\n"
     ]
    },
    {
     "name": "stdout",
     "output_type": "stream",
     "text": [
      "🏃 View run traveling-ant-104 at: http://127.0.0.1:5000/#/experiments/762204469868388553/runs/bf95ea41b7714fd0bbffbe6ab2f81f6f\n",
      "🧪 View experiment at: http://127.0.0.1:5000/#/experiments/762204469868388553\n"
     ]
    }
   ],
   "source": [
    "# Create a new MLflow Experiment\n",
    "mlflow.set_experiment(\"Random Forest Model for Credit Dataset\")\n",
    "\n",
    "# Start an MLflow run for fraud dataset\n",
    "with mlflow.start_run():\n",
    "    # Log the hyperparameters\n",
    "    mlflow.log_param(\"random_state\", 42)\n",
    "\n",
    "    # Log the loss metric\n",
    "    mlflow.log_metric(\"accuracy\", accuracy_credit_rfc)\n",
    "\n",
    "    # Log the classification report\n",
    "    mlflow.log_param(\"classification_report\", report_credit_rfc)\n",
    "\n",
    "    # Log the model\n",
    "    mlflow.sklearn.log_model(model_credit_rfc, \"model\")"
   ]
  },
  {
   "cell_type": "markdown",
   "metadata": {},
   "source": [
    "### ***4. XGBoost Model***"
   ]
  },
  {
   "cell_type": "code",
   "execution_count": 107,
   "metadata": {},
   "outputs": [],
   "source": [
    "## define a function to train the model\n",
    "def train_model_xgb(X_train, y_train):\n",
    "    ## Initialize the model\n",
    "    xgb = XGBClassifier(random_state=42, eval_metric='logloss')\n",
    "    ## Fit the model\n",
    "    xgb.fit(X_train, y_train)\n",
    "    return xgb"
   ]
  },
  {
   "cell_type": "code",
   "execution_count": 108,
   "metadata": {},
   "outputs": [],
   "source": [
    "## fit the model on the resampled fraud dataset and credit card dataset\n",
    "model_fraud_xgb = train_model_xgb(X_train_fraud_resampled, y_train_fraud_resampled)\n",
    "model_credit_xgb = train_model_xgb(X_train_credit_resampled, y_train_credit_resampled)"
   ]
  },
  {
   "cell_type": "code",
   "execution_count": 109,
   "metadata": {},
   "outputs": [
    {
     "name": "stdout",
     "output_type": "stream",
     "text": [
      "Fraud Dataset: Accuracy: 0.9544717599179433\n",
      "Fraud Dataset: Classification Report:\n",
      "              precision    recall  f1-score   support\n",
      "\n",
      "           0       0.95      1.00      0.98     27393\n",
      "           1       0.97      0.53      0.68      2830\n",
      "\n",
      "    accuracy                           0.95     30223\n",
      "   macro avg       0.96      0.76      0.83     30223\n",
      "weighted avg       0.96      0.95      0.95     30223\n",
      "\n",
      "Credit Card Dataset: Accuracy: 0.9991397773954567\n",
      "Credit Card Dataset: Classification Report:\n",
      "              precision    recall  f1-score   support\n",
      "\n",
      "           0       1.00      1.00      1.00     56864\n",
      "           1       0.70      0.87      0.78        98\n",
      "\n",
      "    accuracy                           1.00     56962\n",
      "   macro avg       0.85      0.93      0.89     56962\n",
      "weighted avg       1.00      1.00      1.00     56962\n",
      "\n"
     ]
    }
   ],
   "source": [
    "## Evaluate the model on the test dataset\n",
    "accuracy_fraud_xgb, report_fraud_xgb, conf_matrix_fraud_xgb = evaluate_model(model_fraud_xgb,X_test_fraud,y_test_fraud)\n",
    "accuracy_credit_xgb, report_credit_xgb, conf_matrix_credit_xgb = evaluate_model(model_credit_xgb,X_test_credit,y_test_credit)\n",
    "\n",
    "print(f\"Fraud Dataset: Accuracy: {accuracy_fraud_xgb}\")\n",
    "print(f\"Fraud Dataset: Classification Report:\")\n",
    "print(report_fraud_xgb)\n",
    "\n",
    "\n",
    "print(f\"Credit Card Dataset: Accuracy: {accuracy_credit_xgb}\")\n",
    "print(f\"Credit Card Dataset: Classification Report:\")\n",
    "print(report_credit_xgb)"
   ]
  },
  {
   "cell_type": "code",
   "execution_count": 110,
   "metadata": {},
   "outputs": [
    {
     "data": {
      "image/png": "[encoded data removed]",
      "text/plain": [
       "<Figure size 600x500 with 1 Axes>"
      ]
     },
     "metadata": {},
     "output_type": "display_data"
    },
    {
     "data": {
      "image/png": "[encoded data removed]",
      "text/plain": [
       "<Figure size 600x500 with 1 Axes>"
      ]
     },
     "metadata": {},
     "output_type": "display_data"
    }
   ],
   "source": [
    "# Plot for Credit Card Data\n",
    "plot_confusion_matrix(conf_matrix_credit_xgb, title='Credit Card Data Confusion Matrix XGBoost')\n",
    "\n",
    "# Plot for Fraud Data\n",
    "plot_confusion_matrix(conf_matrix_fraud_xgb, title='Fraud Data Confusion Matrix XGBoost')"
   ]
  },
  {
   "cell_type": "code",
   "execution_count": 111,
   "metadata": {},
   "outputs": [
    {
     "name": "stderr",
     "output_type": "stream",
     "text": [
      "2025/02/11 14:17:22 WARNING mlflow.models.model: Model logged without a signature and input example. Please set `input_example` parameter when logging the model to auto infer the model signature.\n"
     ]
    },
    {
     "name": "stdout",
     "output_type": "stream",
     "text": [
      "🏃 View run dapper-kit-425 at: http://127.0.0.1:5000/#/experiments/920684016056485518/runs/e05a974eb47e41c5883301716de2f279\n",
      "🧪 View experiment at: http://127.0.0.1:5000/#/experiments/920684016056485518\n"
     ]
    }
   ],
   "source": [
    "# Create a new MLflow Experiment\n",
    "mlflow.set_experiment(\"XGBoost Model for Fraud Dataset\")\n",
    "\n",
    "# Start an MLflow run for fraud dataset\n",
    "with mlflow.start_run():\n",
    "    # Log the hyperparameters\n",
    "    mlflow.log_param(\"random_state\", 42)\n",
    "    mlflow.log_param(\"eval_metric\", 'logloss')\n",
    "\n",
    "    # Log the loss metric\n",
    "    mlflow.log_metric(\"accuracy\", accuracy_fraud_xgb)\n",
    "\n",
    "    # Log the classification report\n",
    "    mlflow.log_param(\"classification_report\", report_fraud_xgb)\n",
    "\n",
    "    # Log the model\n",
    "    mlflow.sklearn.log_model(model_fraud_xgb, \"model\")"
   ]
  },
  {
   "cell_type": "code",
   "execution_count": 112,
   "metadata": {},
   "outputs": [
    {
     "name": "stderr",
     "output_type": "stream",
     "text": [
      "2025/02/11 14:17:27 WARNING mlflow.models.model: Model logged without a signature and input example. Please set `input_example` parameter when logging the model to auto infer the model signature.\n"
     ]
    },
    {
     "name": "stdout",
     "output_type": "stream",
     "text": [
      "🏃 View run able-stoat-370 at: http://127.0.0.1:5000/#/experiments/916531310383500869/runs/27fc10be2dfc4530abbd561cbd20e866\n",
      "🧪 View experiment at: http://127.0.0.1:5000/#/experiments/916531310383500869\n"
     ]
    }
   ],
   "source": [
    "# Create a new MLflow Experiment\n",
    "mlflow.set_experiment(\"XGBoost Model for Credit Card Dataset\")\n",
    "\n",
    "# Start an MLflow run for fraud dataset\n",
    "with mlflow.start_run():\n",
    "    # Log the hyperparameters\n",
    "    mlflow.log_param(\"random_state\", 42)\n",
    "    mlflow.log_param(\"eval_metric\", 'logloss')\n",
    "\n",
    "    # Log the loss metric\n",
    "    mlflow.log_metric(\"accuracy\", accuracy_credit_xgb)\n",
    "\n",
    "    # Log the classification report\n",
    "    mlflow.log_param(\"classification_report\", report_credit_xgb)\n",
    "\n",
    "    # Log the model\n",
    "    mlflow.sklearn.log_model(model_credit_xgb, \"model\")"
   ]
  }
 ],
 "metadata": {
  "kaggle": {
   "accelerator": "none",
   "dataSources": [
    {
     "datasetId": 6637295,
     "sourceId": 10709279,
     "sourceType": "datasetVersion"
    }
   ],
   "dockerImageVersionId": 30886,
   "isGpuEnabled": false,
   "isInternetEnabled": true,
   "language": "python",
   "sourceType": "notebook"
  },
  "kernelspec": {
   "display_name": ".venv",
   "language": "python",
   "name": "python3"
  },
  "language_info": {
   "codemirror_mode": {
    "name": "ipython",
    "version": 3
   },
   "file_extension": ".py",
   "mimetype": "text/x-python",
   "name": "python",
   "nbconvert_exporter": "python",
   "pygments_lexer": "ipython3",
   "version": "3.10.0"
  }
 },
 "nbformat": 4,
 "nbformat_minor": 4
}
